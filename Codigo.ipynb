{
 "cells": [
  {
   "cell_type": "markdown",
   "metadata": {},
   "source": [
    "# Importação de bibliotecas"
   ]
  },
  {
   "cell_type": "code",
   "execution_count": 3,
   "metadata": {},
   "outputs": [],
   "source": [
    "import pandas as pd\n",
    "import random\n",
    "import locale\n",
    "import os\n",
    "import openai"
   ]
  },
  {
   "cell_type": "markdown",
   "metadata": {},
   "source": [
    "# Declaração de variáveis"
   ]
  },
  {
   "cell_type": "code",
   "execution_count": 4,
   "metadata": {},
   "outputs": [],
   "source": [
    "locale.setlocale(locale.LC_ALL, 'pt_BR.UTF-8')\n",
    "\n",
    "openai.api_key = os.getenv('OPENAI_API_KEY')\n",
    "\n",
    "NUM_CARTAS_TOTAIS = 78\n",
    "NUM_CARTAS_ESCOLHIDAS = 3\n",
    "ARQUIVO_CARTAS = \"C:/Users/PC/Desktop/Projetos/Tarot_Python/TAROT - TODAS.xlsx\""
   ]
  },
  {
   "cell_type": "markdown",
   "metadata": {},
   "source": [
    "# Funções"
   ]
  },
  {
   "cell_type": "code",
   "execution_count": 5,
   "metadata": {},
   "outputs": [],
   "source": [
    "def escolher_ids_aleatorios():\n",
    "    return random.sample(range(1, NUM_CARTAS_TOTAIS + 1), NUM_CARTAS_ESCOLHIDAS)\n"
   ]
  },
  {
   "cell_type": "code",
   "execution_count": 6,
   "metadata": {},
   "outputs": [],
   "source": [
    "def ler_arquivo(ids_escolhidos):\n",
    "    df = pd.read_excel(ARQUIVO_CARTAS)\n",
    "    cartas_selecionadas = df[df['ID'].isin(ids_escolhidos)]\n",
    "    return cartas_selecionadas\n"
   ]
  },
  {
   "cell_type": "code",
   "execution_count": 7,
   "metadata": {},
   "outputs": [],
   "source": [
    "def mostrar_cartas_selecionadas(cartas, conselho):\n",
    "    for _, carta in cartas.iterrows():\n",
    "        print(f\"Nome: {carta['Carta']}\")  \n",
    "        print(f\"Elemento: {carta['Elemento']}\")\n",
    "        print(f\"Planeta: {carta['Planeta']}\")\n",
    "        print(f\"Signo Astrológico: {carta['Signo_Astrologico']}\")\n",
    "        print(f\"Kabbalah: {carta['Cabala_Kabbalah']}\")\n",
    "        print(f\"Sim ou Não: {carta['Sim_Ou_Nao']}\")\n",
    "        print(f\"Significado: {carta['Significado_Normal']}\\n\\n\")\n",
    "    print(f\"Conselho: {conselho}\\n\\n\")\n"
   ]
  },
  {
   "cell_type": "code",
   "execution_count": 8,
   "metadata": {},
   "outputs": [],
   "source": [
    "def exibir_menu_e_capturar_escolha():\n",
    "    temas = {\n",
    "        1: \"Amor\",\n",
    "        2: \"Dinheiro\",\n",
    "        3: \"Amigos\",\n",
    "        4: \"Carreira\",\n",
    "        5: \"Estudos\",\n",
    "        6: \"Espiritualidade\"\n",
    "    }\n",
    "\n",
    "    print(\"Pense em uma pergunta sobre os temas:\")\n",
    "    for chave, valor in temas.items():\n",
    "        print(f\"{chave} - {valor}\")\n",
    "    print(\"0 - Para sair\")\n",
    "\n",
    "    try:\n",
    "        opcao = int(input(\"Escolha uma opção: \"))\n",
    "        if opcao == 0:\n",
    "            return 0, \"sair\"\n",
    "        elif opcao in temas:\n",
    "            return opcao, temas[opcao]\n",
    "        else:\n",
    "            print(\"Opção inválida. Por favor, digite um número válido.\")\n",
    "            return None, None\n",
    "    except ValueError:\n",
    "        print(\"Por favor, digite um número válido.\")\n",
    "        return None, None\n"
   ]
  },
  {
   "cell_type": "code",
   "execution_count": 9,
   "metadata": {},
   "outputs": [],
   "source": [
    "def gerar_conselho(tema, cartas_selecionadas):\n",
    "    # Preparar o prompt com base nas cartas selecionadas\n",
    "    cartas_info = \"\"\n",
    "    for _, carta in cartas_selecionadas.iterrows():\n",
    "        cartas_info += f\"{carta['Carta']}: {carta['Significado_Normal']} ({'Sim' if carta['Sim_Ou_Nao'] == 'Sim' else 'Não'}).\\n\"\n",
    "\n",
    "    prompt = f\"Dê um conselho curto (máximo de 280 caracteres) sobre o tema {tema}, considerando as cartas: {', '.join(cartas_selecionadas['Carta'])}. Informações das cartas: {cartas_info}\"\n",
    "\n",
    "    try:\n",
    "        #Chama a API\n",
    "        resposta = openai.ChatCompletion.create(\n",
    "            model=\"gpt-4\",\n",
    "            messages=[\n",
    "                {\"role\": \"system\", \"content\": \"Responda em português: Você é um tarólogo dando conselhos,...\"},\n",
    "                {\"role\": \"user\", \"content\": prompt + \" \" + cartas_info}\n",
    "            ]\n",
    "        )\n",
    "        #resposta = 'chama'\n",
    "        # Acessar a resposta gerada corretamente\n",
    "        conselho = resposta.choices[0].message['content'].strip()\n",
    "        return conselho  # Retorna o conselho aqui, dentro do try\n",
    "    except Exception as e:\n",
    "        conselho = f\"Não foi possível gerar um conselho devido ao seguinte erro: {e}\"\n",
    "        # Aqui, também retorna o conselho em caso de erro, para garantir que a função nunca retorne None\n",
    "        return conselho\n",
    "    # Salvar o conselho em um arquivo\n",
    "    with open(\"conselho.txt\", \"w\", encoding=\"utf-8\") as arquivo:\n",
    "        arquivo.write(conselho)  \n",
    "\n",
    "# Outra alteração é na função main, onde você deve verificar se conselho não é None antes de tentar usá-lo\n"
   ]
  },
  {
   "cell_type": "code",
   "execution_count": 10,
   "metadata": {},
   "outputs": [],
   "source": [
    "def main():\n",
    "    while True:\n",
    "        opcao, tema_escolhido = exibir_menu_e_capturar_escolha()\n",
    "        \n",
    "        if opcao == 0:\n",
    "            print(\"Volte sempre!\")\n",
    "            break\n",
    "        elif opcao in [1, 2, 3, 4, 5, 6]:\n",
    "            ids_escolhidos = escolher_ids_aleatorios()\n",
    "            cartas_escolhidas = ler_arquivo(ids_escolhidos)\n",
    "            conselho = gerar_conselho(tema_escolhido, cartas_escolhidas)  # Ajuste conforme necessário\n",
    "            \n",
    "            mostrar_cartas_selecionadas(cartas_escolhidas, conselho)\n",
    "        else:\n",
    "            continue\n",
    "            print('deu ruim')\n"
   ]
  },
  {
   "cell_type": "code",
   "execution_count": 11,
   "metadata": {},
   "outputs": [
    {
     "name": "stdout",
     "output_type": "stream",
     "text": [
      "Pense em uma pergunta sobre os temas:\n",
      "1 - Amor\n",
      "2 - Dinheiro\n",
      "3 - Amigos\n",
      "4 - Carreira\n",
      "5 - Estudos\n",
      "6 - Espiritualidade\n",
      "0 - Para sair\n",
      "Por favor, digite um número válido.\n",
      "Pense em uma pergunta sobre os temas:\n",
      "1 - Amor\n",
      "2 - Dinheiro\n",
      "3 - Amigos\n",
      "4 - Carreira\n",
      "5 - Estudos\n",
      "6 - Espiritualidade\n",
      "0 - Para sair\n",
      "Nome: A Lua\n",
      "Elemento: Agua\n",
      "Planeta: Netuno\n",
      "Signo Astrológico: Peixes\n",
      "Kabbalah: Fevereiro e Marco\n",
      "Sim ou Não: Nao\n",
      "Significado: Ilusao, ansiedade, subconsciente, intuicao.\n",
      "\n",
      "\n",
      "Nome: 6 de Ouros\n",
      "Elemento: Terra\n",
      "Planeta: Lua\n",
      "Signo Astrológico: Touro\n",
      "Kabbalah: Tipharet – Beleza\n",
      "Sim ou Não: Sim\n",
      "Significado: generosidade, equilibrio em dar e receber\n",
      "\n",
      "\n",
      "Nome: Rei de Ouros\n",
      "Elemento: Terra\n",
      "Planeta: Mercurio\n",
      "Signo Astrológico: Capricornio\n",
      "Kabbalah: Chokmah – Sabedoria\n",
      "Sim ou Não: Sim\n",
      "Significado: sucesso, aperfeicoamento, seguranca, alto status, estabilidade, lealdade, conservador, gentil, empresario, confiavel\n",
      "\n",
      "\n",
      "Conselho: No amor, tenha cuidado com ilusões e ansiedades que possam surgir. Lembre-se da importância do equilíbrio entre dar e receber, e confie na estabilidade e lealdade para construir um relacionamento sólido e bem-sucedido.\n",
      "\n",
      "\n",
      "Pense em uma pergunta sobre os temas:\n",
      "1 - Amor\n",
      "2 - Dinheiro\n",
      "3 - Amigos\n",
      "4 - Carreira\n",
      "5 - Estudos\n",
      "6 - Espiritualidade\n",
      "0 - Para sair\n",
      "Volte sempre!\n"
     ]
    }
   ],
   "source": [
    "main()"
   ]
  }
 ],
 "metadata": {
  "kernelspec": {
   "display_name": "base",
   "language": "python",
   "name": "python3"
  },
  "language_info": {
   "codemirror_mode": {
    "name": "ipython",
    "version": 3
   },
   "file_extension": ".py",
   "mimetype": "text/x-python",
   "name": "python",
   "nbconvert_exporter": "python",
   "pygments_lexer": "ipython3",
   "version": "3.11.7"
  }
 },
 "nbformat": 4,
 "nbformat_minor": 2
}
